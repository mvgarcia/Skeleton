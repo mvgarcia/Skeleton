{
 "cells": [
  {
   "cell_type": "code",
   "execution_count": 1,
   "metadata": {},
   "outputs": [
    {
     "name": "stdout",
     "output_type": "stream",
     "text": [
      "Populating the interactive namespace from numpy and matplotlib\n"
     ]
    }
   ],
   "source": [
    "import numpy as np\n",
    "import matplotlib.pyplot as plt\n",
    "#from scipy import stats\n",
    "import statistics as stats\n",
    "import collections\n",
    "import glob\n",
    "%pylab inline\n",
    "betas=[i for i in range(11)]\n",
    "exe = \"/home/uniandes/HackingLSSCode/bin/./LSS_BSK_calc \""
   ]
  },
  {
   "cell_type": "code",
   "execution_count": null,
   "metadata": {},
   "outputs": [],
   "source": [
    "path = \"/home/uniandes/abacus/data/AbacusCosmos_1100box_00_FoF_halos_z0.300/cuts\"\n",
    "\n",
    "archivos = glob.glob(path+\"/*.dat\")\n",
    "for archivo in archivos:\n",
    "    \t\n",
    "    exe = \"/home/uniandes/HackingLSSCode/bin/./LSS_BSK_calc \"\n",
    "    salida = archivo.split(\"/\")[-1]\n",
    "    comm = \"{} -input {} -output {} -beta 1.0 -printinfo false -numNNB 300\".format(exe, archivo, salida+\".bskel_shell\"+ str(1))\n",
    "    print(comm)"
   ]
  },
  {
   "cell_type": "code",
   "execution_count": 57,
   "metadata": {},
   "outputs": [],
   "source": [
    "def entropy(ruta, salida,beta): #ruta es el file del catalogo. Salida es la 'extensión' para identificar i.e '.bskel_shell'\n",
    "    #--Solo para un archivo de txt, un solo beta\n",
    "    \"Calcular BS\"\n",
    "    rutaSalida = ruta+salida+ str(beta)\n",
    "    comm = \"{} -input {} -output {} -beta 1.0 -printinfo false -numNNB 300\".format(exe, ruta, rutaSalida)\n",
    "    print(comm)\n",
    "    \"Cargar\"\n",
    "    data=np.loadtxt(rutaSalida)\n",
    "    data=data.flatten()\n",
    "    original=np.loadtxt(ruta)\n",
    "    \"Contar\"\n",
    "    contador=collections.Counter(data)\n",
    "    nodos=np.array(list(contador))\n",
    "    contador_repeticiones=collections.Counter(contador.values())\n",
    "    \"Añadir ceros\"\n",
    "    n_total=len(original)\n",
    "    n_beta=len(nodos)\n",
    "    diferencia=n_total-n_beta\n",
    "    if((diferencia)>0):\n",
    "        contador_repeticiones.update({0:diferencia})\n",
    "    repeticiones=list(contador_repeticiones.values())\n",
    "    \"Probabilidades\"\n",
    "    probabilidad=[]\n",
    "    for i in range(len(contador_repeticiones)): #Aquí yo comparaba todos los betas con el beta1 - si beta2 max de conex era 13 pero en beta1 era 20, yo sacaba la probabilidad de n<=13 - que era 0 pero quizá afectaba \n",
    "        \"\"\"¡DUDA!= en el caso de abajo, n=19 no está pero n=20 sí, eso afecta en algo; es decir debería calcular esa probabilidad aunque sea 0?\"\"\"\n",
    "        probabilidad.append(repeticiones[i]/n_total)\n",
    "    probabilidad=np.array(probabilidad)\n",
    "    print(np.sum(probabilidad))\n",
    "    assert(np.sum(probabilidad)==1)\n",
    "    entropy=-np.sum(probabilidad*np.log(probabilidad))\n",
    "    return entropy"
   ]
  },
  {
   "cell_type": "code",
   "execution_count": 57,
   "metadata": {},
   "outputs": [],
   "source": [
    "def entropy2(ruta, ruta2): #entrada es el archivo de pares que arroja el beta , ruta 2 es el archivo que meto al beta --Solo para un archivo de txt, un solo beta\n",
    "    \"Cargar\"\n",
    "    data=np.loadtxt(ruta)\n",
    "    data=data.flatten()\n",
    "    original=np.loadtxt(ruta2)\n",
    "    \"Contar\"\n",
    "    contador=collections.Counter(data)\n",
    "    nodos=np.array(list(contador))\n",
    "    contador_repeticiones=collections.Counter(contador.values())\n",
    "    \"Añadir ceros\"\n",
    "    n_total=len(original)\n",
    "    n_beta=len(nodos)\n",
    "    diferencia=n_total-n_beta\n",
    "    if((diferencia)>0):\n",
    "        contador_repeticiones.update({0:diferencia})\n",
    "    repeticiones=list(contador_repeticiones.values())\n",
    "    \"Probabilidades\"\n",
    "    probabilidad=[]\n",
    "    for i in range(len(contador_repeticiones)): #Aquí yo comparaba todos los betas con el beta1 - si beta2 max de conex era 13 pero en beta1 era 20, yo sacaba la probabilidad de n<=13 - que era 0 pero quizá afectaba \n",
    "        \"\"\"¡DUDA!= en el caso de abajo, n=19 no está pero n=20 sí, eso afecta en algo; es decir debería calcular esa probabilidad aunque sea 0?\"\"\"\n",
    "        probabilidad.append(repeticiones[i]/n_total)\n",
    "    probabilidad=np.array(probabilidad)\n",
    "    print(np.sum(probabilidad))\n",
    "    assert(np.sum(probabilidad)==1)\n",
    "    entropy=-np.sum(probabilidad*np.log(probabilidad))\n",
    "    return entropy"
   ]
  },
  {
   "cell_type": "code",
   "execution_count": 44,
   "metadata": {},
   "outputs": [
    {
     "ename": "TypeError",
     "evalue": "'module' object is not callable",
     "output_type": "error",
     "traceback": [
      "\u001b[0;31m---------------------------------------------------------------------------\u001b[0m",
      "\u001b[0;31mTypeError\u001b[0m                                 Traceback (most recent call last)",
      "\u001b[0;32m<ipython-input-44-905b4790df05>\u001b[0m in \u001b[0;36m<module>\u001b[0;34m()\u001b[0m\n\u001b[0;32m----> 1\u001b[0;31m \u001b[0;34m(\u001b[0m\u001b[0mglob\u001b[0m\u001b[0;34m(\u001b[0m\u001b[0mglob\u001b[0m\u001b[0;34m(\u001b[0m\u001b[0;34m\"*1.BSKIndex\"\u001b[0m\u001b[0;34m)\u001b[0m\u001b[0;34m)\u001b[0m\u001b[0;34m)\u001b[0m\u001b[0;34m\u001b[0m\u001b[0;34m\u001b[0m\u001b[0m\n\u001b[0m",
      "\u001b[0;31mTypeError\u001b[0m: 'module' object is not callable"
     ]
    }
   ],
   "source": [
    "file=(glob(glob(\"*1.BSKIndex\")))"
   ]
  },
  {
   "cell_type": "code",
   "execution_count": 62,
   "metadata": {
    "scrolled": true
   },
   "outputs": [
    {
     "name": "stdout",
     "output_type": "stream",
     "text": [
      "1.0\n",
      "1.0\n",
      "1.0\n",
      "1.0\n",
      "1.0\n",
      "[2.0457241303356755, 1.1369259805447758, 1.1915329933150196, 1.2025821083432988, 1.2012519045214136]\n"
     ]
    }
   ],
   "source": [
    "d=(\"sphere_data_cut_2.dat.bskel1.BSKIndex\")\n",
    "d1=(\"sphere_data_cut_2.dat.bskel2.BSKIndex\")\n",
    "d2=(\"sphere_data_cut_2.dat.bskel3.BSKIndex\")\n",
    "d3=(\"sphere_data_cut_2.dat.bskel4.BSKIndex\")\n",
    "d4=(\"sphere_data_cut_2.dat.bskel5.BSKIndex\")\n",
    "\"\"\"d5=(\"sphere_data_cut_2.dat.bskel6.BSKIndex\")\n",
    "d6=(\"sphere_data_cut_2.dat.bskel7.BSKIndex\")\n",
    "d7=(\"sphere_data_cut_2.dat.bskel8.BSKIndex\")\n",
    "d8=(\"sphere_data_cut_2.dat.bskel9.BSKIndex\")\n",
    "d9=(\"sphere_data_cut_2.dat.bskel10.BSKIndex\")\n",
    "otro=(\"sphere_data_cut_2.dat.txt\")\"\"\"\n",
    "ds=d,d1,d2,d3,d4#,d5,d6,d7,d8,d9\n",
    "\"\"\"\n",
    "d=d.flatten()\n",
    "c=collections.Counter(d)\n",
    "n=np.array(list(c))\n",
    "r=(collections.Counter(c.values()))\n",
    "r.update({0:38})\n",
    "rv=list(r.values())\n",
    "pro=[]\n",
    "print(np.sort(list(r)))\n",
    "for i in range(len(r)):\n",
    "    print(i)\n",
    "    print(rv[i])    \n",
    "    pro.append(rv[i]/9081)\n",
    " \"\"\"\n",
    "probas=[]\n",
    "for de in ds:\n",
    "    probas.append(entropy(de,otro))\n",
    "print(probas)"
   ]
  },
  {
   "cell_type": "code",
   "execution_count": 63,
   "metadata": {},
   "outputs": [
    {
     "data": {
      "text/plain": [
       "[<matplotlib.lines.Line2D at 0x7f0a38109eb8>]"
      ]
     },
     "execution_count": 63,
     "metadata": {},
     "output_type": "execute_result"
    },
    {
     "data": {
      "image/png": "[encoded data removed]",
      "text/plain": [
       "<matplotlib.figure.Figure at 0x7f0a382a1438>"
      ]
     },
     "execution_count": 63,
     "metadata": {
      "image/png": {
       "height": 250,
       "width": 373
      }
     },
     "output_type": "execute_result"
    }
   ],
   "source": [
    "betas=[1,2,3,4,5]\n",
    "plt.plot(betas,probas)"
   ]
  }
 ],
 "metadata": {
  "kernelspec": {
   "display_name": "Python 3",
   "language": "python",
   "name": "python3"
  },
  "language_info": {
   "codemirror_mode": {
    "name": "ipython",
    "version": 3
   },
   "file_extension": ".py",
   "mimetype": "text/x-python",
   "name": "python",
   "nbconvert_exporter": "python",
   "pygments_lexer": "ipython3",
   "version": "3.7.0"
  }
 },
 "nbformat": 4,
 "nbformat_minor": 1
}
